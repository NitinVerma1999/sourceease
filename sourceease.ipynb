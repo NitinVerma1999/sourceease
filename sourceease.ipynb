{
 "cells": [
  {
   "cell_type": "code",
   "execution_count": 6,
   "id": "6ad4bb0d-85af-450d-b90b-00b596256077",
   "metadata": {},
   "outputs": [
    {
     "name": "stdout",
     "output_type": "stream",
     "text": [
      "     first_name last_name         company_name address city county postal  \\\n",
      "0       Aleshia       NaN                  NaN     NaN  NaN    NaN    NaN   \n",
      "1           NaN       NaN                  NaN     NaN  NaN    NaN    NaN   \n",
      "2           NaN       NaN  Elliott, John W Esq     NaN  NaN    NaN    NaN   \n",
      "3           NaN       NaN                  NaN     NaN  NaN    NaN    NaN   \n",
      "4           NaN       NaN                  NaN     NaN  NaN    NaN    NaN   \n",
      "...         ...       ...                  ...     ...  ...    ...    ...   \n",
      "1995        NaN       NaN                  NaN     NaN  NaN    NaN    NaN   \n",
      "1996        NaN       NaN                  NaN     NaN  NaN    NaN    NaN   \n",
      "1997        NaN       NaN                  NaN     NaN  NaN    NaN    NaN   \n",
      "1998        NaN       NaN                  NaN     NaN  NaN    NaN    NaN   \n",
      "1999        NaN       NaN                  NaN     NaN  NaN    NaN    NaN   \n",
      "\n",
      "     phone email  web  \n",
      "0      NaN   NaN  NaN  \n",
      "1      NaN   NaN  NaN  \n",
      "2      NaN   NaN  NaN  \n",
      "3      NaN   NaN  NaN  \n",
      "4      NaN   NaN  NaN  \n",
      "...    ...   ...  ...  \n",
      "1995   NaN   NaN  NaN  \n",
      "1996   NaN   NaN  NaN  \n",
      "1997   NaN   NaN  NaN  \n",
      "1998   NaN   NaN  NaN  \n",
      "1999   NaN   NaN  NaN  \n",
      "\n",
      "[2000 rows x 10 columns]\n"
     ]
    }
   ],
   "source": [
    "import pandas as pd\n",
    "import numpy as np\n",
    "def x():\n",
    "    df1=pd.read_excel(\"x1.xls\")\n",
    "    df2=pd.read_excel(\"x2.xls\")\n",
    "    try:\n",
    "        if(df1.equals(df2)==False):\n",
    "           difference = df1[df1!=df2]\n",
    "           print(difference)\n",
    "           \n",
    "            \n",
    "           difference.to_csv(\"difference.csv\") \n",
    "        else :\n",
    "           print(\"Same data\")\n",
    "    except:\n",
    "        print(\"Error\")\n",
    "x()"
   ]
  },
  {
   "cell_type": "code",
   "execution_count": null,
   "id": "e2c02a4f-24b3-4768-93e1-e54af9025d83",
   "metadata": {},
   "outputs": [],
   "source": []
  },
  {
   "cell_type": "code",
   "execution_count": null,
   "id": "f086fac2-c7dc-4dad-a0d8-3b1cef67f48c",
   "metadata": {},
   "outputs": [],
   "source": []
  }
 ],
 "metadata": {
  "kernelspec": {
   "display_name": "Python 3 (ipykernel)",
   "language": "python",
   "name": "python3"
  },
  "language_info": {
   "codemirror_mode": {
    "name": "ipython",
    "version": 3
   },
   "file_extension": ".py",
   "mimetype": "text/x-python",
   "name": "python",
   "nbconvert_exporter": "python",
   "pygments_lexer": "ipython3",
   "version": "3.10.6"
  }
 },
 "nbformat": 4,
 "nbformat_minor": 5
}
